{
 "cells": [
  {
   "cell_type": "code",
   "execution_count": 1,
   "metadata": {},
   "outputs": [
    {
     "name": "stdout",
     "output_type": "stream",
     "text": [
      "Your age is: 18 years, 11 months, and 19 days\n"
     ]
    }
   ],
   "source": [
    "from datetime import datetime\n",
    "\n",
    "birthdate = input(\"Enter your birthdate (YYYY-MM-DD): \")\n",
    "birthdate = datetime.strptime(birthdate, \"%Y-%m-%d\")\n",
    "today = datetime.now()\n",
    "\n",
    "age = today.year - birthdate.year - ((today.month, today.day) < (birthdate.month, birthdate.day))\n",
    "months = (today.month - birthdate.month) % 12\n",
    "days = (today.day - birthdate.day) % 30\n",
    "\n",
    "print(f\"Your age is: {age} years, {months} months, and {days} days\")"
   ]
  },
  {
   "cell_type": "code",
   "execution_count": 2,
   "metadata": {},
   "outputs": [
    {
     "name": "stdout",
     "output_type": "stream",
     "text": [
      "Days until your next birthday: 41\n"
     ]
    }
   ],
   "source": [
    "from datetime import datetime\n",
    "\n",
    "birthdate = input(\"Enter your birthdate (YYYY-MM-DD): \")\n",
    "birthdate = datetime.strptime(birthdate, \"%Y-%m-%d\")\n",
    "today = datetime.now()\n",
    "\n",
    "next_birthday = birthdate.replace(year=today.year)\n",
    "if next_birthday < today:\n",
    "    next_birthday = next_birthday.replace(year=today.year + 1)\n",
    "\n",
    "days_left = (next_birthday - today).days\n",
    "print(f\"Days until your next birthday: {days_left}\")"
   ]
  },
  {
   "cell_type": "code",
   "execution_count": 4,
   "metadata": {},
   "outputs": [
    {
     "name": "stdout",
     "output_type": "stream",
     "text": [
      "Meeting will end at: 2025-05-03 19:13\n"
     ]
    }
   ],
   "source": [
    "from datetime import datetime, timedelta\n",
    "\n",
    "current = input(\"Enter current date and time (YYYY-MM-DD HH:MM): \")\n",
    "current = datetime.strptime(current, \"%Y-%m-%d %H:%M\")\n",
    "hours = int(input(\"Enter meeting duration hours: \"))\n",
    "minutes = int(input(\"Enter meeting duration minutes: \"))\n",
    "\n",
    "end_time = current + timedelta(hours=hours, minutes=minutes)\n",
    "print(f\"Meeting will end at: {end_time.strftime('%Y-%m-%d %H:%M')}\")"
   ]
  },
  {
   "cell_type": "code",
   "execution_count": 8,
   "metadata": {},
   "outputs": [
    {
     "name": "stdout",
     "output_type": "stream",
     "text": [
      "Converted time: 2025-05-03 13:02\n"
     ]
    }
   ],
   "source": [
    "from datetime import datetime\n",
    "import pytz\n",
    "\n",
    "dt = input(\"Enter date and time (YYYY-MM-DD HH:MM): \")\n",
    "current_tz = input(\"Enter your timezone (e.g. America/New_York): \")\n",
    "target_tz = input(\"Enter target timezone (e.g. Europe/London): \")\n",
    "\n",
    "dt = datetime.strptime(dt, \"%Y-%m-%d %H:%M\")\n",
    "current = pytz.timezone(current_tz).localize(dt)\n",
    "target = current.astimezone(pytz.timezone(target_tz))\n",
    "\n",
    "print(f\"Converted time: {target.strftime('%Y-%m-%d %H:%M')}\")"
   ]
  },
  {
   "cell_type": "code",
   "execution_count": 10,
   "metadata": {},
   "outputs": [
    {
     "name": "stdout",
     "output_type": "stream",
     "text": [
      "Countdown finished!0:00.640984\n"
     ]
    }
   ],
   "source": [
    "import time\n",
    "from datetime import datetime\n",
    "\n",
    "future = input(\"Enter future date and time (YYYY-MM-DD HH:MM:SS): \")\n",
    "future = datetime.strptime(future, \"%Y-%m-%d %H:%M:%S\")\n",
    "\n",
    "try:\n",
    "    while True:\n",
    "        now = datetime.now()\n",
    "        if now >= future:\n",
    "            print(\"Countdown finished!\")\n",
    "            break\n",
    "        \n",
    "        remaining = future - now\n",
    "        print(f\"Time remaining: {remaining}\", end='\\r')\n",
    "        time.sleep(1)\n",
    "except KeyboardInterrupt:\n",
    "    print(\"\\nCountdown stopped\")"
   ]
  },
  {
   "cell_type": "code",
   "execution_count": 11,
   "metadata": {},
   "outputs": [
    {
     "name": "stdout",
     "output_type": "stream",
     "text": [
      "Valid email address\n"
     ]
    }
   ],
   "source": [
    "import re\n",
    "\n",
    "email = input(\"Enter email address: \")\n",
    "pattern = r\"^[a-zA-Z0-9._%+-]+@[a-zA-Z0-9.-]+\\.[a-zA-Z]{2,}$\"\n",
    "\n",
    "if re.match(pattern, email):\n",
    "    print(\"Valid email address\")\n",
    "else:\n",
    "    print(\"Invalid email address\")"
   ]
  },
  {
   "cell_type": "code",
   "execution_count": 12,
   "metadata": {},
   "outputs": [
    {
     "name": "stdout",
     "output_type": "stream",
     "text": [
      "Formatted: Invalid phone number\n"
     ]
    }
   ],
   "source": [
    "def format_phone(number):\n",
    "    number = ''.join(filter(str.isdigit, number))\n",
    "    if len(number) == 10:\n",
    "        return f\"({number[:3]}) {number[3:6]}-{number[6:]}\"\n",
    "    return \"Invalid phone number\"\n",
    "\n",
    "phone = input(\"Enter phone number: \")\n",
    "print(\"Formatted:\", format_phone(phone))"
   ]
  },
  {
   "cell_type": "code",
   "execution_count": null,
   "metadata": {},
   "outputs": [],
   "source": [
    "import re\n",
    "\n",
    "password = input(\"Enter password: \")\n",
    "checks = [\n",
    "    len(password) >= 8,\n",
    "    re.search(r\"[A-Z]\", password),\n",
    "    re.search(r\"[a-z]\", password),\n",
    "    re.search(r\"\\d\", password),\n",
    "    re.search(r\"[!@#$%^&*(),.?\\\":{}|<>]\", password)\n",
    "]\n",
    "\n",
    "strength = sum(checks)\n",
    "print(f\"Password strength: {strength}/5\")\n",
    "if strength < 3:\n",
    "    print(\"Weak password\")\n",
    "elif strength < 5:\n",
    "    print(\"Medium strength\")\n",
    "else:\n",
    "    print(\"Strong password\")"
   ]
  },
  {
   "cell_type": "code",
   "execution_count": null,
   "metadata": {},
   "outputs": [],
   "source": [
    "text = \"\"\"This is a sample text with multiple words. \n",
    "Some words repeat, like sample and text.\"\"\"\n",
    "word = input(\"Enter word to find: \")\n",
    "\n",
    "occurrences = [i+1 for i, w in enumerate(text.lower().split()) if w == word.lower()]\n",
    "print(f\"Word '{word}' appears at positions: {occurrences}\")x"
   ]
  },
  {
   "cell_type": "code",
   "execution_count": null,
   "metadata": {},
   "outputs": [],
   "source": [
    "import re\n",
    "\n",
    "text = input(\"Enter text containing dates: \")\n",
    "pattern = r\"\\b\\d{1,2}[/-]\\d{1,2}[/-]\\d{2,4}\\b|\\b(?:Jan|Feb|Mar|Apr|May|Jun|Jul|Aug|Sep|Oct|Nov|Dec)[a-z]* \\d{1,2},? \\d{4}\\b\"\n",
    "\n",
    "dates = re.findall(pattern, text)\n",
    "print(\"Found dates:\", dates)"
   ]
  }
 ],
 "metadata": {
  "kernelspec": {
   "display_name": "Python 3",
   "language": "python",
   "name": "python3"
  },
  "language_info": {
   "codemirror_mode": {
    "name": "ipython",
    "version": 3
   },
   "file_extension": ".py",
   "mimetype": "text/x-python",
   "name": "python",
   "nbconvert_exporter": "python",
   "pygments_lexer": "ipython3",
   "version": "3.12.9"
  },
  "orig_nbformat": 4
 },
 "nbformat": 4,
 "nbformat_minor": 2
}
