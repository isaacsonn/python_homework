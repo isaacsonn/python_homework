{
 "cells": [
  {
   "cell_type": "code",
   "execution_count": 1,
   "metadata": {},
   "outputs": [],
   "source": [
    "def add(a, b):\n",
    "    \"\"\"Return the sum of two numbers\"\"\"\n",
    "    return a + b\n",
    "\n",
    "def subtract(a, b):\n",
    "    \"\"\"Return the difference between two numbers\"\"\"\n",
    "    return a - b\n",
    "\n",
    "def multiply(a, b):\n",
    "    \"\"\"Return the product of two numbers\"\"\"\n",
    "    return a * b\n",
    "\n",
    "def divide(a, b):\n",
    "    \"\"\"\n",
    "    Return the quotient of two numbers\n",
    "    Raises ValueError if divisor is zero\n",
    "    \"\"\"\n",
    "    if b == 0:\n",
    "        raise ValueError(\"Cannot divide by zero\")\n",
    "    return a / b"
   ]
  },
  {
   "cell_type": "code",
   "execution_count": 2,
   "metadata": {},
   "outputs": [],
   "source": [
    "def reverse_string(s):\n",
    "    \"\"\"Return the reversed version of the input string\"\"\"\n",
    "    return s[::-1]\n",
    "\n",
    "def count_vowels(s):\n",
    "    \"\"\"Return the count of vowels (a,e,i,o,u) in the string (case-insensitive)\"\"\"\n",
    "    vowels = {'a', 'e', 'i', 'o', 'u'}\n",
    "    return sum(1 for char in s.lower() if char in vowels)"
   ]
  },
  {
   "cell_type": "code",
   "execution_count": 3,
   "metadata": {},
   "outputs": [
    {
     "ename": "ModuleNotFoundError",
     "evalue": "No module named 'math_operations'",
     "output_type": "error",
     "traceback": [
      "\u001b[31m---------------------------------------------------------------------------\u001b[39m",
      "\u001b[31mModuleNotFoundError\u001b[39m                       Traceback (most recent call last)",
      "\u001b[36mCell\u001b[39m\u001b[36m \u001b[39m\u001b[32mIn[3]\u001b[39m\u001b[32m, line 1\u001b[39m\n\u001b[32m----> \u001b[39m\u001b[32m1\u001b[39m \u001b[38;5;28;01mfrom\u001b[39;00m\u001b[38;5;250m \u001b[39m\u001b[34;01mmath_operations\u001b[39;00m\u001b[38;5;250m \u001b[39m\u001b[38;5;28;01mimport\u001b[39;00m add, subtract, multiply, divide\n\u001b[32m      2\u001b[39m \u001b[38;5;28;01mfrom\u001b[39;00m\u001b[38;5;250m \u001b[39m\u001b[34;01mstring_utils\u001b[39;00m\u001b[38;5;250m \u001b[39m\u001b[38;5;28;01mimport\u001b[39;00m reverse_string, count_vowels\n\u001b[32m      4\u001b[39m \u001b[38;5;28mprint\u001b[39m(\u001b[33m\"\u001b[39m\u001b[33mMath Operations:\u001b[39m\u001b[33m\"\u001b[39m)\n",
      "\u001b[31mModuleNotFoundError\u001b[39m: No module named 'math_operations'"
     ]
    }
   ],
   "source": [
    "from math_operations import add, subtract, multiply, divide\n",
    "from string_utils import reverse_string, count_vowels\n",
    "\n",
    "print(\"Math Operations:\")\n",
    "print(f\"5 + 3 = {add(5, 3)}\")\n",
    "print(f\"5 - 3 = {subtract(5, 3)}\")\n",
    "print(f\"5 * 3 = {multiply(5, 3)}\")\n",
    "print(f\"5 / 3 = {divide(5, 3):.2f}\")\n",
    "\n",
    "print(\"\\nString Utilities:\")\n",
    "test_string = \"Hello, World!\"\n",
    "print(f\"Original: {test_string}\")\n",
    "print(f\"Reversed: {reverse_string(test_string)}\")\n",
    "print(f\"Vowel count: {count_vowels(test_string)}\")"
   ]
  },
  {
   "cell_type": "code",
   "execution_count": null,
   "metadata": {},
   "outputs": [],
   "source": []
  },
  {
   "cell_type": "code",
   "execution_count": null,
   "metadata": {},
   "outputs": [],
   "source": []
  }
 ],
 "metadata": {
  "kernelspec": {
   "display_name": "Python 3",
   "language": "python",
   "name": "python3"
  },
  "language_info": {
   "codemirror_mode": {
    "name": "ipython",
    "version": 3
   },
   "file_extension": ".py",
   "mimetype": "text/x-python",
   "name": "python",
   "nbconvert_exporter": "python",
   "pygments_lexer": "ipython3",
   "version": "3.12.9"
  },
  "orig_nbformat": 4
 },
 "nbformat": 4,
 "nbformat_minor": 2
}
