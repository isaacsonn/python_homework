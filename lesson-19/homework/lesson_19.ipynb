{
 "cells": [
  {
   "attachments": {},
   "cell_type": "markdown",
   "metadata": {},
   "source": [
    "## Homework Assignment 1: Analyzing Sales Data"
   ]
  },
  {
   "cell_type": "code",
   "execution_count": 16,
   "metadata": {},
   "outputs": [
    {
     "data": {
      "text/html": [
       "<div>\n",
       "<style scoped>\n",
       "    .dataframe tbody tr th:only-of-type {\n",
       "        vertical-align: middle;\n",
       "    }\n",
       "\n",
       "    .dataframe tbody tr th {\n",
       "        vertical-align: top;\n",
       "    }\n",
       "\n",
       "    .dataframe thead th {\n",
       "        text-align: right;\n",
       "    }\n",
       "</style>\n",
       "<table border=\"1\" class=\"dataframe\">\n",
       "  <thead>\n",
       "    <tr style=\"text-align: right;\">\n",
       "      <th></th>\n",
       "      <th>Date</th>\n",
       "      <th>Product</th>\n",
       "      <th>Category</th>\n",
       "      <th>Quantity</th>\n",
       "      <th>Price</th>\n",
       "    </tr>\n",
       "  </thead>\n",
       "  <tbody>\n",
       "    <tr>\n",
       "      <th>0</th>\n",
       "      <td>2023-01-01</td>\n",
       "      <td>Laptop</td>\n",
       "      <td>Electronics</td>\n",
       "      <td>10</td>\n",
       "      <td>800</td>\n",
       "    </tr>\n",
       "    <tr>\n",
       "      <th>1</th>\n",
       "      <td>2023-01-01</td>\n",
       "      <td>T-Shirt</td>\n",
       "      <td>Clothing</td>\n",
       "      <td>5</td>\n",
       "      <td>20</td>\n",
       "    </tr>\n",
       "    <tr>\n",
       "      <th>2</th>\n",
       "      <td>2023-01-02</td>\n",
       "      <td>Smartphone</td>\n",
       "      <td>Electronics</td>\n",
       "      <td>8</td>\n",
       "      <td>400</td>\n",
       "    </tr>\n",
       "    <tr>\n",
       "      <th>3</th>\n",
       "      <td>2023-01-02</td>\n",
       "      <td>Coffee Maker</td>\n",
       "      <td>Home</td>\n",
       "      <td>12</td>\n",
       "      <td>50</td>\n",
       "    </tr>\n",
       "    <tr>\n",
       "      <th>4</th>\n",
       "      <td>2023-01-03</td>\n",
       "      <td>Jeans</td>\n",
       "      <td>Clothing</td>\n",
       "      <td>15</td>\n",
       "      <td>30</td>\n",
       "    </tr>\n",
       "  </tbody>\n",
       "</table>\n",
       "</div>"
      ],
      "text/plain": [
       "         Date       Product     Category  Quantity  Price\n",
       "0  2023-01-01        Laptop  Electronics        10    800\n",
       "1  2023-01-01       T-Shirt     Clothing         5     20\n",
       "2  2023-01-02    Smartphone  Electronics         8    400\n",
       "3  2023-01-02  Coffee Maker         Home        12     50\n",
       "4  2023-01-03         Jeans     Clothing        15     30"
      ]
     },
     "execution_count": 16,
     "metadata": {},
     "output_type": "execute_result"
    }
   ],
   "source": [
    "import pandas as pd\n",
    "import numpy as np\n",
    "\n",
    "saleinfo = pd.read_csv('sales_data.csv')\n",
    "saleinfo.head()"
   ]
  },
  {
   "cell_type": "code",
   "execution_count": 9,
   "metadata": {},
   "outputs": [
    {
     "name": "stdout",
     "output_type": "stream",
     "text": [
      "      Category  total_quantity   avg_price  max_quantity\n",
      "0     Clothing             157   31.176471            15\n",
      "1  Electronics             183  276.764706            15\n",
      "2         Home             144   55.000000            14\n"
     ]
    }
   ],
   "source": [
    "\n",
    "category_stats = saleinfo.groupby('Category').agg(\n",
    "    total_quantity=('Quantity','sum'),\n",
    "    avg_price=('Price','mean'),\n",
    "    max_quantity=('Quantity','max')\n",
    ").reset_index()\n",
    "print(category_stats)"
   ]
  },
  {
   "cell_type": "code",
   "execution_count": 13,
   "metadata": {},
   "outputs": [
    {
     "name": "stdout",
     "output_type": "stream",
     "text": [
      "       Category          Product  Quantity\n",
      "8      Clothing            Jeans        15\n",
      "27  Electronics         Smart TV        15\n",
      "46         Home  Pressure Cooker        14\n"
     ]
    }
   ],
   "source": [
    "top_products = saleinfo.groupby(['Category', 'Product'])['Quantity'].sum().reset_index()\n",
    "top_products = top_products.loc[top_products.groupby('Category')['Quantity'].idxmax()]\n",
    "\n",
    "print(top_products)"
   ]
  },
  {
   "cell_type": "code",
   "execution_count": 14,
   "metadata": {},
   "outputs": [
    {
     "name": "stdout",
     "output_type": "stream",
     "text": [
      "2023-01-07\n"
     ]
    }
   ],
   "source": [
    "saleinfo['Total_Sales'] = saleinfo['Quantity'] * saleinfo['Price']\n",
    "date_max_sale = saleinfo.groupby('Date')['Total_Sales'].sum().idxmax()\n",
    "print(date_max_sale)"
   ]
  },
  {
   "attachments": {},
   "cell_type": "markdown",
   "metadata": {},
   "source": [
    "## Homework Assignment 2: Examining Customer Orders\n",
    "\n"
   ]
  },
  {
   "cell_type": "code",
   "execution_count": 19,
   "metadata": {},
   "outputs": [
    {
     "data": {
      "text/html": [
       "<div>\n",
       "<style scoped>\n",
       "    .dataframe tbody tr th:only-of-type {\n",
       "        vertical-align: middle;\n",
       "    }\n",
       "\n",
       "    .dataframe tbody tr th {\n",
       "        vertical-align: top;\n",
       "    }\n",
       "\n",
       "    .dataframe thead th {\n",
       "        text-align: right;\n",
       "    }\n",
       "</style>\n",
       "<table border=\"1\" class=\"dataframe\">\n",
       "  <thead>\n",
       "    <tr style=\"text-align: right;\">\n",
       "      <th></th>\n",
       "      <th>OrderID</th>\n",
       "      <th>CustomerID</th>\n",
       "      <th>Product</th>\n",
       "      <th>Quantity</th>\n",
       "      <th>Price</th>\n",
       "    </tr>\n",
       "  </thead>\n",
       "  <tbody>\n",
       "    <tr>\n",
       "      <th>0</th>\n",
       "      <td>1</td>\n",
       "      <td>101</td>\n",
       "      <td>Laptop</td>\n",
       "      <td>2</td>\n",
       "      <td>800</td>\n",
       "    </tr>\n",
       "    <tr>\n",
       "      <th>1</th>\n",
       "      <td>2</td>\n",
       "      <td>102</td>\n",
       "      <td>Headphones</td>\n",
       "      <td>1</td>\n",
       "      <td>150</td>\n",
       "    </tr>\n",
       "    <tr>\n",
       "      <th>2</th>\n",
       "      <td>3</td>\n",
       "      <td>103</td>\n",
       "      <td>Smartphone</td>\n",
       "      <td>3</td>\n",
       "      <td>400</td>\n",
       "    </tr>\n",
       "    <tr>\n",
       "      <th>3</th>\n",
       "      <td>4</td>\n",
       "      <td>101</td>\n",
       "      <td>External Hard Drive</td>\n",
       "      <td>2</td>\n",
       "      <td>80</td>\n",
       "    </tr>\n",
       "    <tr>\n",
       "      <th>4</th>\n",
       "      <td>5</td>\n",
       "      <td>102</td>\n",
       "      <td>Backpack</td>\n",
       "      <td>1</td>\n",
       "      <td>40</td>\n",
       "    </tr>\n",
       "    <tr>\n",
       "      <th>...</th>\n",
       "      <td>...</td>\n",
       "      <td>...</td>\n",
       "      <td>...</td>\n",
       "      <td>...</td>\n",
       "      <td>...</td>\n",
       "    </tr>\n",
       "    <tr>\n",
       "      <th>95</th>\n",
       "      <td>96</td>\n",
       "      <td>103</td>\n",
       "      <td>Blender</td>\n",
       "      <td>1</td>\n",
       "      <td>60</td>\n",
       "    </tr>\n",
       "    <tr>\n",
       "      <th>96</th>\n",
       "      <td>97</td>\n",
       "      <td>104</td>\n",
       "      <td>Sport Shoes</td>\n",
       "      <td>2</td>\n",
       "      <td>40</td>\n",
       "    </tr>\n",
       "    <tr>\n",
       "      <th>97</th>\n",
       "      <td>98</td>\n",
       "      <td>105</td>\n",
       "      <td>Comforter Set</td>\n",
       "      <td>1</td>\n",
       "      <td>45</td>\n",
       "    </tr>\n",
       "    <tr>\n",
       "      <th>98</th>\n",
       "      <td>99</td>\n",
       "      <td>101</td>\n",
       "      <td>Wireless Earbuds</td>\n",
       "      <td>2</td>\n",
       "      <td>120</td>\n",
       "    </tr>\n",
       "    <tr>\n",
       "      <th>99</th>\n",
       "      <td>100</td>\n",
       "      <td>102</td>\n",
       "      <td>Gaming Console</td>\n",
       "      <td>1</td>\n",
       "      <td>400</td>\n",
       "    </tr>\n",
       "  </tbody>\n",
       "</table>\n",
       "<p>100 rows × 5 columns</p>\n",
       "</div>"
      ],
      "text/plain": [
       "    OrderID  CustomerID              Product  Quantity  Price\n",
       "0         1         101               Laptop         2    800\n",
       "1         2         102           Headphones         1    150\n",
       "2         3         103           Smartphone         3    400\n",
       "3         4         101  External Hard Drive         2     80\n",
       "4         5         102             Backpack         1     40\n",
       "..      ...         ...                  ...       ...    ...\n",
       "95       96         103              Blender         1     60\n",
       "96       97         104          Sport Shoes         2     40\n",
       "97       98         105        Comforter Set         1     45\n",
       "98       99         101     Wireless Earbuds         2    120\n",
       "99      100         102       Gaming Console         1    400\n",
       "\n",
       "[100 rows x 5 columns]"
      ]
     },
     "execution_count": 19,
     "metadata": {},
     "output_type": "execute_result"
    }
   ],
   "source": [
    "import pandas as pd\n",
    "\n",
    "orders = pd.read_csv('customer_orders.csv')\n",
    "orders"
   ]
  },
  {
   "cell_type": "code",
   "execution_count": 23,
   "metadata": {},
   "outputs": [
    {
     "name": "stdout",
     "output_type": "stream",
     "text": [
      "CustomerID\n",
      "101    21\n",
      "102    21\n",
      "103    20\n",
      "104    20\n",
      "105    18\n",
      "Name: OrderID, dtype: int64\n"
     ]
    }
   ],
   "source": [
    "#1.Group the data by CustomerID and filter out customers who have made less than 20 orders.\n",
    "\n",
    "active_customers = orders.groupby('CustomerID')['OrderID'].nunique()\n",
    "filt = active_customers[active_customers >= 20].index\n",
    "\n",
    "print(active_customers)"
   ]
  },
  {
   "cell_type": "code",
   "execution_count": 25,
   "metadata": {},
   "outputs": [
    {
     "name": "stdout",
     "output_type": "stream",
     "text": [
      "Index([102, 104], dtype='int64', name='CustomerID')\n"
     ]
    }
   ],
   "source": [
    "#2.Identify customers who have ordered products with an average price per unit greater than $120.\n",
    "\n",
    "customer_avg_price = orders.groupby('CustomerID')['Price'].mean()\n",
    "high_value_customers = customer_avg_price[customer_avg_price > 120].index\n",
    "\n",
    "print(high_value_customers)"
   ]
  },
  {
   "cell_type": "code",
   "execution_count": 26,
   "metadata": {},
   "outputs": [
    {
     "name": "stdout",
     "output_type": "stream",
     "text": [
      "             Product  Total_Quantity  Total_Price\n",
      "5        Cargo Pants               6          120\n",
      "15       Dress Shirt               5           50\n",
      "19      Formal Shirt               6          105\n",
      "30        Smartphone               5          800\n",
      "32       Sport Shoes               5          120\n",
      "35        Sunglasses               5           60\n",
      "41  Wireless Earbuds               6          360\n"
     ]
    }
   ],
   "source": [
    "#3.Find the total quantity and total price for each product ordered, and filter out products that have a total quantity less than 5 units\n",
    "\n",
    "# Group by Product and sum Quantity & Price\n",
    "product_stats = orders.groupby('Product').agg(\n",
    "    Total_Quantity=('Quantity', 'sum'),\n",
    "    Total_Price=('Price', 'sum')\n",
    ").reset_index()\n",
    "\n",
    "# Filter out products with Total_Quantity <5\n",
    "filtered_products = product_stats[product_stats['Total_Quantity'] >= 5]\n",
    "\n",
    "print(filtered_products)"
   ]
  },
  {
   "attachments": {},
   "cell_type": "markdown",
   "metadata": {},
   "source": [
    "## Homework Assignment 3: Population Salary Analysis"
   ]
  },
  {
   "cell_type": "code",
   "execution_count": null,
   "metadata": {},
   "outputs": [],
   "source": [
    "import sqlite3\n",
    "import pandas as pd\n",
    "import numpy as np\n",
    "\n",
    "salary_bands = pd.read_excel('task/population salary analysis.xlsx', sheet_name='Salary Bands')\n",
    "\n",
    "conn = sqlite3.connect('task/population.db')\n",
    "query = \"SELECT * FROM population\"\n",
    "population_df = pd.read_sql(query, conn)\n",
    "conn.close()\n",
    "\n",
    "def categorize_salary(salary):\n",
    "    for _, band in salary_bands.iterrows():\n",
    "        if band['Min'] <= salary < band['Max']:\n",
    "            return band['Category']\n",
    "    return 'Unknown'\n",
    "\n",
    "population_df['Salary Category'] = population_df['Salary'].apply(categorize_salary)\n",
    "\n",
    "def calculate_measures(df):\n",
    "    measures = {\n",
    "        'Percentage of Population': df.groupby('Salary Category').size() / len(df) * 100,\n",
    "        'Average Salary': df.groupby('Salary Category')['Salary'].mean(),\n",
    "        'Median Salary': df.groupby('Salary Category')['Salary'].median(),\n",
    "        'Population Count': df.groupby('Salary Category').size()\n",
    "    }\n",
    "    return pd.concat(measures, axis=1)\n",
    "\n",
    "overall_results = calculate_measures(population_df)\n",
    "\n",
    "if 'State' in population_df.columns:\n",
    "    state_results = population_df.groupby('State').apply(calculate_measures)\n",
    "    state_results = state_results.unstack(level=1)\n",
    "else:\n",
    "    state_results = \"No State information in the dataset\"\n",
    "\n",
    "print(\"Overall Results:\")\n",
    "print(overall_results)\n",
    "\n",
    "print(\"\\nResults by State:\")\n",
    "print(state_results)"
   ]
  }
 ],
 "metadata": {
  "kernelspec": {
   "display_name": "Python 3",
   "language": "python",
   "name": "python3"
  },
  "language_info": {
   "codemirror_mode": {
    "name": "ipython",
    "version": 3
   },
   "file_extension": ".py",
   "mimetype": "text/x-python",
   "name": "python",
   "nbconvert_exporter": "python",
   "pygments_lexer": "ipython3",
   "version": "3.12.9"
  },
  "orig_nbformat": 4
 },
 "nbformat": 4,
 "nbformat_minor": 2
}
