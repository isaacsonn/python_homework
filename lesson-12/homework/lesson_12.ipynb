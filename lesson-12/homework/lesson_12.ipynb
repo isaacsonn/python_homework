{
 "cells": [
  {
   "attachments": {},
   "cell_type": "markdown",
   "metadata": {},
   "source": [
    "# 1.Threaded Prime Number Checker\n"
   ]
  },
  {
   "cell_type": "code",
   "execution_count": 2,
   "metadata": {},
   "outputs": [
    {
     "name": "stdout",
     "output_type": "stream",
     "text": [
      "Prime numbers between 10 and 100:\n",
      "[11, 13, 17, 19, 23, 29, 31, 37, 41, 43, 47, 53, 59, 61, 67, 71, 73, 79, 83, 89, 97]\n"
     ]
    }
   ],
   "source": [
    "import threading\n",
    "import math\n",
    "\n",
    "def is_prime(n):\n",
    "    if n <= 1:\n",
    "        return False\n",
    "    if n == 2:\n",
    "        return True\n",
    "    if n % 2 == 0:\n",
    "        return False\n",
    "    max_divisor = math.isqrt(n) + 1\n",
    "    for d in range(3, max_divisor, 2):\n",
    "        if n % d == 0:\n",
    "            return False\n",
    "    return True\n",
    "\n",
    "def check_primes_in_range(start, end, primes_list, lock):\n",
    "    primes = []\n",
    "    for num in range(start, end + 1):\n",
    "        if is_prime(num):\n",
    "            primes.append(num)\n",
    "    with lock:\n",
    "        primes_list.extend(primes)\n",
    "\n",
    "def parallel_prime_check(start, end, num_threads=4):\n",
    "    primes = []\n",
    "    lock = threading.Lock()\n",
    "    threads = []\n",
    "    chunk_size = (end - start + 1) // num_threads\n",
    "    remainder = (end - start + 1) % num_threads\n",
    "\n",
    "    for i in range(num_threads):\n",
    "        chunk_start = start + i * chunk_size\n",
    "        chunk_end = chunk_start + chunk_size - 1\n",
    "        if i == num_threads - 1:\n",
    "            chunk_end += remainder  # Assign remainder to the last thread\n",
    "        thread = threading.Thread(\n",
    "            target=check_primes_in_range,\n",
    "            args=(chunk_start, chunk_end, primes, lock)\n",
    "        )\n",
    "        threads.append(thread)\n",
    "        thread.start()\n",
    "\n",
    "    for thread in threads:\n",
    "        thread.join()\n",
    "\n",
    "    return sorted(primes)\n",
    "\n",
    "if __name__ == \"__main__\":\n",
    "    start_range = 10\n",
    "    end_range = 100\n",
    "    num_threads = 4\n",
    "\n",
    "    primes_found = parallel_prime_check(start_range, end_range, num_threads)\n",
    "    print(f\"Prime numbers between {start_range} and {end_range}:\")\n",
    "    print(primes_found)"
   ]
  },
  {
   "attachments": {},
   "cell_type": "markdown",
   "metadata": {},
   "source": [
    "# 2.Threaded File Processing"
   ]
  },
  {
   "cell_type": "code",
   "execution_count": null,
   "metadata": {},
   "outputs": [],
   "source": []
  }
 ],
 "metadata": {
  "kernelspec": {
   "display_name": "Python 3",
   "language": "python",
   "name": "python3"
  },
  "language_info": {
   "codemirror_mode": {
    "name": "ipython",
    "version": 3
   },
   "file_extension": ".py",
   "mimetype": "text/x-python",
   "name": "python",
   "nbconvert_exporter": "python",
   "pygments_lexer": "ipython3",
   "version": "3.12.9"
  },
  "orig_nbformat": 4
 },
 "nbformat": 4,
 "nbformat_minor": 2
}
