{
 "cells": [
  {
   "cell_type": "code",
   "execution_count": 1,
   "metadata": {},
   "outputs": [
    {
     "name": "stdout",
     "output_type": "stream",
     "text": [
      "Error: students.json file not found\n"
     ]
    }
   ],
   "source": [
    "import json\n",
    "\n",
    "def read_students():\n",
    "    try:\n",
    "        with open('students.json', 'r') as file:\n",
    "            data = json.load(file)\n",
    "            print(\"\\nStudent Details:\")\n",
    "            for student in data['students']:\n",
    "                print(f\"\\nID: {student['id']}\")\n",
    "                print(f\"Name: {student['name']}\")\n",
    "                print(f\"Age: {student['age']}\")\n",
    "                print(f\"Major: {student['major']}\")\n",
    "                print(f\"GPA: {student['gpa']}\")\n",
    "    except FileNotFoundError:\n",
    "        print(\"Error: students.json file not found\")\n",
    "    except json.JSONDecodeError:\n",
    "        print(\"Error: Invalid JSON format\")\n",
    "\n",
    "read_students()"
   ]
  },
  {
   "cell_type": "code",
   "execution_count": 11,
   "metadata": {},
   "outputs": [
    {
     "name": "stdout",
     "output_type": "stream",
     "text": [
      "Error: Invalid API key. Please see https://openweathermap.org/faq#error401 for more info.\n"
     ]
    }
   ],
   "source": [
    "import requests\n",
    "\n",
    "def get_weather(api_key, city=\"Tashkent\"):\n",
    "    base_url = \"http://api.openweathermap.org/data/2.5/weather\"\n",
    "    params = {\n",
    "        'q': city,\n",
    "        'appid': api_key,\n",
    "        'units': 'metric'\n",
    "    }\n",
    "    \n",
    "    try:\n",
    "        response = requests.get(base_url, params=params)\n",
    "        data = response.json()\n",
    "        \n",
    "        if response.status_code == 200:\n",
    "            print(f\"\\nWeather in {city}:\")\n",
    "            print(f\"Temperature: {data['main']['temp']}°C\")\n",
    "            print(f\"Humidity: {data['main']['humidity']}%\")\n",
    "            print(f\"Weather: {data['weather'][0]['description']}\")\n",
    "            print(f\"Wind Speed: {data['wind']['speed']} m/s\")\n",
    "        else:\n",
    "            print(f\"Error: {data['message']}\")\n",
    "    except requests.exceptions.RequestException:\n",
    "        print(\"Error: Could not connect to the API\")\n",
    "\n",
    "api_key = \"https://openweathermap.org/\"\n",
    "get_weather(api_key, \"Tashkent\")"
   ]
  },
  {
   "cell_type": "code",
   "execution_count": 3,
   "metadata": {},
   "outputs": [
    {
     "name": "stdout",
     "output_type": "stream",
     "text": [
      "Error: books.json file not found\n"
     ]
    }
   ],
   "source": [
    "import json\n",
    "\n",
    "def manage_books():\n",
    "    try:\n",
    "        with open('books.json', 'r+') as file:\n",
    "            try:\n",
    "                data = json.load(file)\n",
    "            except json.JSONDecodeError:\n",
    "                data = {\"books\": []}\n",
    "            \n",
    "            while True:\n",
    "                print(\"\\nBook Management System\")\n",
    "                print(\"1. Add Book\")\n",
    "                print(\"2. Update Book\")\n",
    "                print(\"3. Delete Book\")\n",
    "                print(\"4. View All Books\")\n",
    "                print(\"5. Exit\")\n",
    "                \n",
    "                choice = input(\"Enter your choice: \")\n",
    "                \n",
    "                if choice == \"1\":\n",
    "                    book = {\n",
    "                        \"id\": input(\"Enter book ID: \"),\n",
    "                        \"title\": input(\"Enter title: \"),\n",
    "                        \"author\": input(\"Enter author: \"),\n",
    "                        \"year\": input(\"Enter publication year: \")\n",
    "                    }\n",
    "                    data['books'].append(book)\n",
    "                    print(\"Book added successfully!\")\n",
    "                \n",
    "                elif choice == \"2\":\n",
    "                    book_id = input(\"Enter book ID to update: \")\n",
    "                    for book in data['books']:\n",
    "                        if book['id'] == book_id:\n",
    "                            book['title'] = input(f\"Enter new title ({book['title']}): \") or book['title']\n",
    "                            book['author'] = input(f\"Enter new author ({book['author']}): \") or book['author']\n",
    "                            book['year'] = input(f\"Enter new year ({book['year']}): \") or book['year']\n",
    "                            print(\"Book updated successfully!\")\n",
    "                            break\n",
    "                    else:\n",
    "                        print(\"Book not found!\")\n",
    "                \n",
    "                elif choice == \"3\":\n",
    "                    book_id = input(\"Enter book ID to delete: \")\n",
    "                    data['books'] = [b for b in data['books'] if b['id'] != book_id]\n",
    "                    print(\"Book deleted successfully!\")\n",
    "                \n",
    "                elif choice == \"4\":\n",
    "                    print(\"\\nAll Books:\")\n",
    "                    for book in data['books']:\n",
    "                        print(f\"\\nID: {book['id']}\")\n",
    "                        print(f\"Title: {book['title']}\")\n",
    "                        print(f\"Author: {book['author']}\")\n",
    "                        print(f\"Year: {book['year']}\")\n",
    "                \n",
    "                elif choice == \"5\":\n",
    "                    file.seek(0)\n",
    "                    json.dump(data, file, indent=4)\n",
    "                    file.truncate()\n",
    "                    print(\"Changes saved. Goodbye!\")\n",
    "                    break\n",
    "                \n",
    "                else:\n",
    "                    print(\"Invalid choice. Try again.\")\n",
    "    \n",
    "    except FileNotFoundError:\n",
    "        print(\"Error: books.json file not found\")\n",
    "\n",
    "manage_books()"
   ]
  },
  {
   "cell_type": "code",
   "execution_count": 10,
   "metadata": {},
   "outputs": [
    {
     "name": "stdout",
     "output_type": "stream",
     "text": [
      "Available genres: action, comedy, drama, horror, sci-fi, thriller\n",
      "No movies found for this genre\n"
     ]
    }
   ],
   "source": [
    "import requests\n",
    "import random\n",
    "\n",
    "def recommend_movie(api_key):\n",
    "    genres = [\"action\", \"comedy\", \"drama\", \"horror\", \"sci-fi\", \"thriller\"]\n",
    "    print(\"Available genres:\", \", \".join(genres))\n",
    "    genre = input(\"Enter your preferred genre: \").lower()\n",
    "    \n",
    "    if genre not in genres:\n",
    "        print(\"Invalid genre selected\")\n",
    "        return\n",
    "    \n",
    "    params = {\n",
    "        's': genre,\n",
    "        'type': 'movie',\n",
    "        'apikey': api_key,\n",
    "        'page': random.randint(1, 10)\n",
    "    }\n",
    "    \n",
    "    try:\n",
    "        response = requests.get(\"http://www.omdbapi.com/\", params=params)\n",
    "        data = response.json()\n",
    "        \n",
    "        if data.get('Response') == 'True':\n",
    "            movies = data['Search']\n",
    "            selected = random.choice(movies)\n",
    "            \n",
    "            print(\"\\nRecommended Movie:\")\n",
    "            print(f\"Title: {selected['Title']}\")\n",
    "            print(f\"Year: {selected['Year']}\")\n",
    "            print(f\"IMDb ID: {selected['imdbID']}\")\n",
    "            print(f\"Type: {selected['Type'].title()}\")\n",
    "        else:\n",
    "            print(\"No movies found for this genre\")\n",
    "    except requests.exceptions.RequestException:\n",
    "        print(\"Error: Could not connect to OMDb API\")\n",
    "\n",
    "api_key = \" http://www.omdbapi.com/\"\n",
    "recommend_movie(api_key)"
   ]
  }
 ],
 "metadata": {
  "kernelspec": {
   "display_name": "Python 3",
   "language": "python",
   "name": "python3"
  },
  "language_info": {
   "codemirror_mode": {
    "name": "ipython",
    "version": 3
   },
   "file_extension": ".py",
   "mimetype": "text/x-python",
   "name": "python",
   "nbconvert_exporter": "python",
   "pygments_lexer": "ipython3",
   "version": "3.12.9"
  },
  "orig_nbformat": 4
 },
 "nbformat": 4,
 "nbformat_minor": 2
}
