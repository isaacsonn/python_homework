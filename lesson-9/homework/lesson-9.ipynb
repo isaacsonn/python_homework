{
 "cells": [
  {
   "attachments": {},
   "cell_type": "markdown",
   "metadata": {},
   "source": [
    "# 1. Circle Class"
   ]
  },
  {
   "cell_type": "code",
   "execution_count": 1,
   "metadata": {},
   "outputs": [
    {
     "name": "stdout",
     "output_type": "stream",
     "text": [
      "Area: 78.53981633974483\n",
      "Perimeter: 31.41592653589793\n"
     ]
    }
   ],
   "source": [
    "import math\n",
    "\n",
    "class Circle:\n",
    "    def __init__(self, radius):\n",
    "        self.radius = radius\n",
    "    \n",
    "    def area(self):\n",
    "        return math.pi * self.radius ** 2\n",
    "    \n",
    "    def perimeter(self):\n",
    "        return 2 * math.pi * self.radius\n",
    "\n",
    "circle = Circle(5)\n",
    "print(\"Area:\", circle.area())\n",
    "print(\"Perimeter:\", circle.perimeter())"
   ]
  },
  {
   "attachments": {},
   "cell_type": "markdown",
   "metadata": {},
   "source": [
    "# 2. Person Class"
   ]
  },
  {
   "cell_type": "code",
   "execution_count": 2,
   "metadata": {},
   "outputs": [
    {
     "name": "stdout",
     "output_type": "stream",
     "text": [
      "John Doe is 34 years old\n"
     ]
    }
   ],
   "source": [
    "from datetime import date\n",
    "\n",
    "class Person:\n",
    "    def __init__(self, name, country, birth_date):\n",
    "        self.name = name\n",
    "        self.country = country\n",
    "        self.birth_date = birth_date\n",
    "    \n",
    "    def calculate_age(self):\n",
    "        today = date.today()\n",
    "        age = today.year - self.birth_date.year\n",
    "        if (today.month, today.day) < (self.birth_date.month, self.birth_date.day):\n",
    "            age -= 1\n",
    "        return age\n",
    "\n",
    "person = Person(\"John Doe\", \"USA\", date(1990, 5, 15))\n",
    "print(f\"{person.name} is {person.calculate_age()} years old\")"
   ]
  },
  {
   "attachments": {},
   "cell_type": "markdown",
   "metadata": {},
   "source": [
    "# 3. Calculator Class"
   ]
  },
  {
   "cell_type": "code",
   "execution_count": 3,
   "metadata": {},
   "outputs": [
    {
     "name": "stdout",
     "output_type": "stream",
     "text": [
      "5 + 3 = 8\n",
      "10 / 2 = 5.0\n"
     ]
    }
   ],
   "source": [
    "class Calculator:\n",
    "    @staticmethod\n",
    "    def add(a, b):\n",
    "        return a + b\n",
    "    \n",
    "    @staticmethod\n",
    "    def subtract(a, b):\n",
    "        return a - b\n",
    "    \n",
    "    @staticmethod\n",
    "    def multiply(a, b):\n",
    "        return a * b\n",
    "    \n",
    "    @staticmethod\n",
    "    def divide(a, b):\n",
    "        if b == 0:\n",
    "            raise ValueError(\"Cannot divide by zero\")\n",
    "        return a / b\n",
    "\n",
    "print(\"5 + 3 =\", Calculator.add(5, 3))\n",
    "print(\"10 / 2 =\", Calculator.divide(10, 2))"
   ]
  },
  {
   "attachments": {},
   "cell_type": "markdown",
   "metadata": {},
   "source": [
    "# 4. Shape and Subclasses"
   ]
  },
  {
   "cell_type": "code",
   "execution_count": 5,
   "metadata": {},
   "outputs": [
    {
     "name": "stdout",
     "output_type": "stream",
     "text": [
      "Area: 78.54, Perimeter: 31.42\n",
      "Area: 6.00, Perimeter: 12.00\n",
      "Area: 16.00, Perimeter: 16.00\n"
     ]
    }
   ],
   "source": [
    "import math\n",
    "\n",
    "class Shape:\n",
    "    def area(self):\n",
    "        pass\n",
    "    \n",
    "    def perimeter(self):\n",
    "        pass\n",
    "\n",
    "class Circle(Shape):\n",
    "    def __init__(self, radius):\n",
    "        self.radius = radius\n",
    "    \n",
    "    def area(self):\n",
    "        return math.pi * self.radius ** 2\n",
    "    \n",
    "    def perimeter(self):\n",
    "        return 2 * math.pi * self.radius\n",
    "\n",
    "class Triangle(Shape):\n",
    "    def __init__(self, a, b, c):\n",
    "        self.a = a\n",
    "        self.b = b\n",
    "        self.c = c\n",
    "    \n",
    "    def area(self):\n",
    "        s = (self.a + self.b + self.c) / 2\n",
    "        return math.sqrt(s * (s - self.a) * (s - self.b) * (s - self.c))\n",
    "    \n",
    "    def perimeter(self):\n",
    "        return self.a + self.b + self.c\n",
    "\n",
    "class Square(Shape):\n",
    "    def __init__(self, side):\n",
    "        self.side = side\n",
    "    \n",
    "    def area(self):\n",
    "        return self.side ** 2\n",
    "    \n",
    "    def perimeter(self):\n",
    "        return 4 * self.side\n",
    "\n",
    "shapes = [Circle(5), Triangle(3, 4, 5), Square(4)]\n",
    "for shape in shapes:\n",
    "    print(f\"Area: {shape.area():.2f}, Perimeter: {shape.perimeter():.2f}\")"
   ]
  },
  {
   "attachments": {},
   "cell_type": "markdown",
   "metadata": {},
   "source": [
    "# 5. Binary Search Tree Class"
   ]
  },
  {
   "cell_type": "code",
   "execution_count": 6,
   "metadata": {},
   "outputs": [
    {
     "name": "stdout",
     "output_type": "stream",
     "text": [
      "Search for 3: True\n",
      "Search for 10: False\n"
     ]
    }
   ],
   "source": [
    "class TreeNode:\n",
    "    def __init__(self, value):\n",
    "        self.value = value\n",
    "        self.left = None\n",
    "        self.right = None\n",
    "\n",
    "class BinarySearchTree:\n",
    "    def __init__(self):\n",
    "        self.root = None\n",
    "    \n",
    "    def insert(self, value):\n",
    "        if self.root is None:\n",
    "            self.root = TreeNode(value)\n",
    "        else:\n",
    "            self._insert_recursive(self.root, value)\n",
    "    \n",
    "    def _insert_recursive(self, node, value):\n",
    "        if value < node.value:\n",
    "            if node.left is None:\n",
    "                node.left = TreeNode(value)\n",
    "            else:\n",
    "                self._insert_recursive(node.left, value)\n",
    "        elif value > node.value:\n",
    "            if node.right is None:\n",
    "                node.right = TreeNode(value)\n",
    "            else:\n",
    "                self._insert_recursive(node.right, value)\n",
    "    \n",
    "    def search(self, value):\n",
    "        return self._search_recursive(self.root, value)\n",
    "    \n",
    "    def _search_recursive(self, node, value):\n",
    "        if node is None:\n",
    "            return False\n",
    "        if node.value == value:\n",
    "            return True\n",
    "        elif value < node.value:\n",
    "            return self._search_recursive(node.left, value)\n",
    "        else:\n",
    "            return self._search_recursive(node.right, value)\n",
    "\n",
    "bst = BinarySearchTree()\n",
    "bst.insert(5)\n",
    "bst.insert(3)\n",
    "bst.insert(7)\n",
    "print(\"Search for 3:\", bst.search(3))\n",
    "print(\"Search for 10:\", bst.search(10))"
   ]
  },
  {
   "attachments": {},
   "cell_type": "markdown",
   "metadata": {},
   "source": [
    "# 6. Stack Data Structure"
   ]
  },
  {
   "cell_type": "code",
   "execution_count": 7,
   "metadata": {},
   "outputs": [
    {
     "name": "stdout",
     "output_type": "stream",
     "text": [
      "Popped: 2\n",
      "Top item: 1\n"
     ]
    }
   ],
   "source": [
    "class Stack:\n",
    "    def __init__(self):\n",
    "        self.items = []\n",
    "    \n",
    "    def push(self, item):\n",
    "        self.items.append(item)\n",
    "    \n",
    "    def pop(self):\n",
    "        if not self.is_empty():\n",
    "            return self.items.pop()\n",
    "        return None\n",
    "    \n",
    "    def is_empty(self):\n",
    "        return len(self.items) == 0\n",
    "    \n",
    "    def peek(self):\n",
    "        if not self.is_empty():\n",
    "            return self.items[-1]\n",
    "        return None\n",
    "    \n",
    "    def size(self):\n",
    "        return len(self.items)\n",
    "\n",
    "stack = Stack()\n",
    "stack.push(1)\n",
    "stack.push(2)\n",
    "print(\"Popped:\", stack.pop())\n",
    "print(\"Top item:\", stack.peek())"
   ]
  },
  {
   "attachments": {},
   "cell_type": "markdown",
   "metadata": {},
   "source": [
    "# 7. Linked List Data Structure\n"
   ]
  },
  {
   "cell_type": "code",
   "execution_count": 8,
   "metadata": {},
   "outputs": [
    {
     "name": "stdout",
     "output_type": "stream",
     "text": [
      "1 -> 2 -> 3 -> None\n",
      "1 -> 3 -> None\n"
     ]
    }
   ],
   "source": [
    "class Node:\n",
    "    def __init__(self, data):\n",
    "        self.data = data\n",
    "        self.next = None\n",
    "\n",
    "class LinkedList:\n",
    "    def __init__(self):\n",
    "        self.head = None\n",
    "    \n",
    "    def display(self):\n",
    "        current = self.head\n",
    "        while current:\n",
    "            print(current.data, end=\" -> \")\n",
    "            current = current.next\n",
    "        print(\"None\")\n",
    "    \n",
    "    def insert_at_end(self, data):\n",
    "        new_node = Node(data)\n",
    "        if not self.head:\n",
    "            self.head = new_node\n",
    "            return\n",
    "        current = self.head\n",
    "        while current.next:\n",
    "            current = current.next\n",
    "        current.next = new_node\n",
    "    \n",
    "    def delete_node(self, key):\n",
    "        current = self.head\n",
    "        if current and current.data == key:\n",
    "            self.head = current.next\n",
    "            current = None\n",
    "            return\n",
    "        prev = None\n",
    "        while current and current.data != key:\n",
    "            prev = current\n",
    "            current = current.next\n",
    "        if current is None:\n",
    "            return\n",
    "        prev.next = current.next\n",
    "        current = None\n",
    "\n",
    "\n",
    "ll = LinkedList()\n",
    "ll.insert_at_end(1)\n",
    "ll.insert_at_end(2)\n",
    "ll.insert_at_end(3)\n",
    "ll.display()\n",
    "ll.delete_node(2)\n",
    "ll.display()"
   ]
  },
  {
   "attachments": {},
   "cell_type": "markdown",
   "metadata": {},
   "source": [
    "# 8. Shopping Cart Class"
   ]
  },
  {
   "cell_type": "code",
   "execution_count": 9,
   "metadata": {},
   "outputs": [
    {
     "name": "stdout",
     "output_type": "stream",
     "text": [
      "Total: 4.1499999999999995\n",
      "Total after removal: 3.16\n"
     ]
    }
   ],
   "source": [
    "class ShoppingCart:\n",
    "    def __init__(self):\n",
    "        self.items = {}\n",
    "    \n",
    "    def add_item(self, item, price, quantity=1):\n",
    "        if item in self.items:\n",
    "            self.items[item]['quantity'] += quantity\n",
    "        else:\n",
    "            self.items[item] = {'price': price, 'quantity': quantity}\n",
    "    \n",
    "    def remove_item(self, item, quantity=1):\n",
    "        if item in self.items:\n",
    "            if self.items[item]['quantity'] <= quantity:\n",
    "                del self.items[item]\n",
    "            else:\n",
    "                self.items[item]['quantity'] -= quantity\n",
    "    \n",
    "    def calculate_total(self):\n",
    "        return sum(item['price'] * item['quantity'] for item in self.items.values())\n",
    "\n",
    "cart = ShoppingCart()\n",
    "cart.add_item(\"Apple\", 0.99, 3)\n",
    "cart.add_item(\"Banana\", 0.59, 2)\n",
    "print(\"Total:\", cart.calculate_total())\n",
    "cart.remove_item(\"Apple\", 1)\n",
    "print(\"Total after removal:\", cart.calculate_total())"
   ]
  },
  {
   "attachments": {},
   "cell_type": "markdown",
   "metadata": {},
   "source": [
    "# 9. Stack with Display"
   ]
  },
  {
   "cell_type": "code",
   "execution_count": 10,
   "metadata": {},
   "outputs": [
    {
     "name": "stdout",
     "output_type": "stream",
     "text": [
      "Stack: [10, 20]\n",
      "Stack: [10]\n"
     ]
    }
   ],
   "source": [
    "class Stack:\n",
    "    def __init__(self):\n",
    "        self.items = []\n",
    "    \n",
    "    def push(self, item):\n",
    "        self.items.append(item)\n",
    "    \n",
    "    def pop(self):\n",
    "        if not self.is_empty():\n",
    "            return self.items.pop()\n",
    "        return None\n",
    "    \n",
    "    def is_empty(self):\n",
    "        return len(self.items) == 0\n",
    "    \n",
    "    def peek(self):\n",
    "        if not self.is_empty():\n",
    "            return self.items[-1]\n",
    "        return None\n",
    "    \n",
    "    def size(self):\n",
    "        return len(self.items)\n",
    "    \n",
    "    def display(self):\n",
    "        print(\"Stack:\", self.items)\n",
    "\n",
    "stack = Stack()\n",
    "stack.push(10)\n",
    "stack.push(20)\n",
    "stack.display()\n",
    "stack.pop()\n",
    "stack.display()"
   ]
  },
  {
   "attachments": {},
   "cell_type": "markdown",
   "metadata": {},
   "source": [
    "# 10. Queue Data Structure"
   ]
  },
  {
   "cell_type": "code",
   "execution_count": 11,
   "metadata": {},
   "outputs": [
    {
     "name": "stdout",
     "output_type": "stream",
     "text": [
      "Dequeued: 1\n",
      "Front item: 2\n"
     ]
    }
   ],
   "source": [
    "class Queue:\n",
    "    def __init__(self):\n",
    "        self.items = []\n",
    "    \n",
    "    def enqueue(self, item):\n",
    "        self.items.insert(0, item)\n",
    "    \n",
    "    def dequeue(self):\n",
    "        if not self.is_empty():\n",
    "            return self.items.pop()\n",
    "        return None\n",
    "    \n",
    "    def is_empty(self):\n",
    "        return len(self.items) == 0\n",
    "    \n",
    "    def size(self):\n",
    "        return len(self.items)\n",
    "    \n",
    "    def peek(self):\n",
    "        if not self.is_empty():\n",
    "            return self.items[-1]\n",
    "        return None\n",
    "\n",
    "queue = Queue()\n",
    "queue.enqueue(1)\n",
    "queue.enqueue(2)\n",
    "print(\"Dequeued:\", queue.dequeue())\n",
    "print(\"Front item:\", queue.peek())"
   ]
  },
  {
   "attachments": {},
   "cell_type": "markdown",
   "metadata": {},
   "source": [
    "# 11. Bank Class"
   ]
  },
  {
   "cell_type": "code",
   "execution_count": 12,
   "metadata": {},
   "outputs": [
    {
     "name": "stdout",
     "output_type": "stream",
     "text": [
      "Alice's balance: 700\n",
      "Bob's balance: 800\n"
     ]
    }
   ],
   "source": [
    "class BankAccount:\n",
    "    def __init__(self, account_number, customer_name, balance=0):\n",
    "        self.account_number = account_number\n",
    "        self.customer_name = customer_name\n",
    "        self.balance = balance\n",
    "    \n",
    "    def deposit(self, amount):\n",
    "        if amount > 0:\n",
    "            self.balance += amount\n",
    "            return True\n",
    "        return False\n",
    "    \n",
    "    def withdraw(self, amount):\n",
    "        if 0 < amount <= self.balance:\n",
    "            self.balance -= amount\n",
    "            return True\n",
    "        return False\n",
    "    \n",
    "    def get_balance(self):\n",
    "        return self.balance\n",
    "\n",
    "class Bank:\n",
    "    def __init__(self):\n",
    "        self.accounts = {}\n",
    "    \n",
    "    def create_account(self, account_number, customer_name, initial_balance=0):\n",
    "        if account_number not in self.accounts:\n",
    "            self.accounts[account_number] = BankAccount(account_number, customer_name, initial_balance)\n",
    "            return True\n",
    "        return False\n",
    "    \n",
    "    def get_account(self, account_number):\n",
    "        return self.accounts.get(account_number)\n",
    "    \n",
    "    def transfer(self, from_account, to_account, amount):\n",
    "        if from_account in self.accounts and to_account in self.accounts:\n",
    "            if self.accounts[from_account].withdraw(amount):\n",
    "                self.accounts[to_account].deposit(amount)\n",
    "                return True\n",
    "        return False\n",
    "\n",
    "bank = Bank()\n",
    "bank.create_account(\"12345\", \"Alice\", 1000)\n",
    "bank.create_account(\"67890\", \"Bob\", 500)\n",
    "bank.transfer(\"12345\", \"67890\", 300)\n",
    "print(\"Alice's balance:\", bank.get_account(\"12345\").get_balance())\n",
    "print(\"Bob's balance:\", bank.get_account(\"67890\").get_balance())"
   ]
  }
 ],
 "metadata": {
  "kernelspec": {
   "display_name": "Python 3",
   "language": "python",
   "name": "python3"
  },
  "language_info": {
   "codemirror_mode": {
    "name": "ipython",
    "version": 3
   },
   "file_extension": ".py",
   "mimetype": "text/x-python",
   "name": "python",
   "nbconvert_exporter": "python",
   "pygments_lexer": "ipython3",
   "version": "3.12.9"
  },
  "orig_nbformat": 4
 },
 "nbformat": 4,
 "nbformat_minor": 2
}
