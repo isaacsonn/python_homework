{
 "cells": [
  {
   "attachments": {},
   "cell_type": "markdown",
   "metadata": {},
   "source": [
    "1 Leap year function\n"
   ]
  },
  {
   "cell_type": "code",
   "execution_count": 7,
   "metadata": {},
   "outputs": [
    {
     "name": "stdout",
     "output_type": "stream",
     "text": [
      "True\n"
     ]
    }
   ],
   "source": [
    "def is_leap_year(year):\n",
    "    if not isinstance(year, int):\n",
    "        raise ValueError(\"Year must be an integer.\")\n",
    "    return (year % 4 == 0 and year % 100 != 0) or (year % 400 == 0)\n",
    "print(is_leap_year(2000))\n"
   ]
  },
  {
   "attachments": {},
   "cell_type": "markdown",
   "metadata": {},
   "source": [
    "2. Conditional Statements Exercise\n"
   ]
  },
  {
   "cell_type": "code",
   "execution_count": 68,
   "metadata": {},
   "outputs": [
    {
     "name": "stdout",
     "output_type": "stream",
     "text": [
      "Weird\n"
     ]
    }
   ],
   "source": [
    "def check_weird(n):\n",
    "    if 1 <= n <= 100:        \n",
    "        if n % 2!=0:\n",
    "            print(\"Weird\")\n",
    "        elif 2<=n<=5:\n",
    "            print(\"Not weird\")\n",
    "        elif 6<=n<=20:\n",
    "            print(\"Weird\")\n",
    "        elif 20<n:\n",
    "            print(\"Not Weird\")\n",
    "        else:\n",
    "            print(\"INVALID NUMBER\")\n",
    "check_weird(99)\n",
    "\n"
   ]
  },
  {
   "attachments": {},
   "cell_type": "markdown",
   "metadata": {},
   "source": [
    "3.FIND EVEN NUMBERS"
   ]
  },
  {
   "cell_type": "code",
   "execution_count": 67,
   "metadata": {},
   "outputs": [
    {
     "name": "stdout",
     "output_type": "stream",
     "text": [
      "2\n",
      "4\n",
      "6\n",
      "8\n",
      "10\n"
     ]
    }
   ],
   "source": [
    "def find_even_numbers(a, b):\n",
    "    if a > b:\n",
    "        return\n",
    "    if a % 2 == 0:\n",
    "        print(a)\n",
    "    find_even_numbers(a+1,b)\n",
    "\n",
    "find_even_numbers(1,11)\n"
   ]
  },
  {
   "cell_type": "code",
   "execution_count": 55,
   "metadata": {},
   "outputs": [
    {
     "data": {
      "text/plain": [
       "[2, 4, 6, 8, 10]"
      ]
     },
     "execution_count": 55,
     "metadata": {},
     "output_type": "execute_result"
    }
   ],
   "source": [
    "a = 1\n",
    "b = 11\n",
    "\n",
    "def find_even_numbers(a, b):\n",
    "    return list(range(a + a % 2, b + 1, 2))\n",
    "find_even_numbers(1,11)"
   ]
  }
 ],
 "metadata": {
  "kernelspec": {
   "display_name": "Python 3",
   "language": "python",
   "name": "python3"
  },
  "language_info": {
   "codemirror_mode": {
    "name": "ipython",
    "version": 3
   },
   "file_extension": ".py",
   "mimetype": "text/x-python",
   "name": "python",
   "nbconvert_exporter": "python",
   "pygments_lexer": "ipython3",
   "version": "3.12.9"
  },
  "orig_nbformat": 4
 },
 "nbformat": 4,
 "nbformat_minor": 2
}
