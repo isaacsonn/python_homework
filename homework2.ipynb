{
 "cells": [
  {
   "attachments": {},
   "cell_type": "markdown",
   "metadata": {},
   "source": [
    "#1.Age calculator\n"
   ]
  },
  {
   "cell_type": "code",
   "execution_count": 3,
   "metadata": {},
   "outputs": [
    {
     "name": "stdout",
     "output_type": "stream",
     "text": [
      "Hello Madina! You are 17 years old\n"
     ]
    }
   ],
   "source": [
    "import datetime\n",
    "\n",
    "\n",
    "name = input('Enter your name:')\n",
    "birth_year = int(input('Enter your year of birth:'))\n",
    "current_year = datetime.datetime.now().year\n",
    "age = current_year - birth_year\n",
    "print(f'Hello {name}! You are {age} years old')"
   ]
  },
  {
   "attachments": {},
   "cell_type": "markdown",
   "metadata": {},
   "source": [
    "#2.Extract car names\n"
   ]
  },
  {
   "cell_type": "code",
   "execution_count": 6,
   "metadata": {},
   "outputs": [
    {
     "name": "stdout",
     "output_type": "stream",
     "text": [
      "Possible car names: ['Malibu', 'Tesla']\n"
     ]
    }
   ],
   "source": [
    "txt = 'LMaasleitbtui'\n",
    "car_brands = (\"Malibu\",\"Tesla\",\"BMW\",\"Bugatti\",\"Audi\",\"Toyota\")\n",
    "found_brands = [brand for brand in car_brands if all(brand.lower().count(c) <= txt.lower().count(c) for c in brand.lower())]\n",
    "\n",
    "print(\"Possible car names:\", found_brands)\n"
   ]
  },
  {
   "attachments": {},
   "cell_type": "markdown",
   "metadata": {},
   "source": [
    "#3.Extract car names\n"
   ]
  },
  {
   "cell_type": "code",
   "execution_count": 9,
   "metadata": {},
   "outputs": [
    {
     "name": "stdout",
     "output_type": "stream",
     "text": [
      "Possible car names: ['Matiz', 'Damas']\n"
     ]
    }
   ],
   "source": [
    "txt = 'MsaatmiazD'\n",
    "car_brands = (\"Matiz\",\"Damas\",\"Tico\",\"Spark\")\n",
    "found_brands = [brand for brand in car_brands if all(brand.lower().count(c) <= txt.lower().count(c) for c in brand.lower())]\n",
    "print(\"Possible car names:\", found_brands)"
   ]
  },
  {
   "attachments": {},
   "cell_type": "markdown",
   "metadata": {},
   "source": [
    "4.Extract Residence Ares\n"
   ]
  },
  {
   "cell_type": "code",
   "execution_count": 18,
   "metadata": {},
   "outputs": [
    {
     "name": "stdout",
     "output_type": "stream",
     "text": [
      "Your Residence Area: London\n"
     ]
    }
   ],
   "source": [
    "txt = \"I'am John. I am from London\"\n",
    "words = txt.split(' ')\n",
    "if \"from\" in words:\n",
    "    found_residence_area = words[words.index(\"from\")+1]\n",
    "else:\n",
    "    found_residence_area == \"Unknown\"\n",
    "print(\"Your Residence Area:\", found_residence_area)\n"
   ]
  },
  {
   "attachments": {},
   "cell_type": "markdown",
   "metadata": {},
   "source": [
    "#5.Reverse string"
   ]
  },
  {
   "cell_type": "code",
   "execution_count": 15,
   "metadata": {},
   "outputs": [
    {
     "name": "stdout",
     "output_type": "stream",
     "text": [
      "anidaM\n"
     ]
    }
   ],
   "source": [
    "user = input(\"Enter words:\")\n",
    "reversed_text = \"\" .join(reversed(user))\n",
    "print(reversed_text)"
   ]
  },
  {
   "attachments": {},
   "cell_type": "markdown",
   "metadata": {},
   "source": [
    "#6.Count vowels"
   ]
  },
  {
   "cell_type": "code",
   "execution_count": 19,
   "metadata": {},
   "outputs": [
    {
     "name": "stdout",
     "output_type": "stream",
     "text": [
      "Vowels in the text: ['a', 'i', 'a']\n"
     ]
    }
   ],
   "source": [
    "vowels = {'a','i','e','o','u'}\n",
    "text = input(\"Enter text:\")\n",
    "found_vowels = [char for char in text.lower() if char in vowels ]\n",
    "print(\"Vowels in the text:\", found_vowels)"
   ]
  },
  {
   "attachments": {},
   "cell_type": "markdown",
   "metadata": {},
   "source": [
    "#7.Find Maximum Value"
   ]
  },
  {
   "cell_type": "code",
   "execution_count": null,
   "metadata": {},
   "outputs": [],
   "source": [
    "numbers = int (input(\"Enter numbers:\"))\n",
    "max_value = max(numbers)\n",
    "print(\"Maximum Value\", max_value)"
   ]
  },
  {
   "attachments": {},
   "cell_type": "markdown",
   "metadata": {},
   "source": [
    "#8.Check Palindrome\n"
   ]
  },
  {
   "cell_type": "code",
   "execution_count": 30,
   "metadata": {},
   "outputs": [
    {
     "name": "stdout",
     "output_type": "stream",
     "text": [
      "\"racecar\" is a palindrome!\n"
     ]
    }
   ],
   "source": [
    "word = input(\"Enter a word: \")\n",
    "is_palindrome = word.lower() == word.lower()[::-1]\n",
    "print(f'\"{word}\" is a palindrome!' if is_palindrome else f'\"{word}\" is not a palindrome.')"
   ]
  },
  {
   "attachments": {},
   "cell_type": "markdown",
   "metadata": {},
   "source": [
    "#9.Extract email demain\n"
   ]
  },
  {
   "cell_type": "code",
   "execution_count": 37,
   "metadata": {},
   "outputs": [
    {
     "name": "stdout",
     "output_type": "stream",
     "text": [
      "domain: \n"
     ]
    }
   ],
   "source": [
    "email = input('Enter ypur email:')\n",
    "domain = email.split('@')[-1] if '@' in email else 'invalit email format'\n",
    "print('domain:', domain)"
   ]
  },
  {
   "attachments": {},
   "cell_type": "markdown",
   "metadata": {},
   "source": [
    "#10.Generate random password"
   ]
  },
  {
   "cell_type": "code",
   "execution_count": 32,
   "metadata": {},
   "outputs": [
    {
     "name": "stdout",
     "output_type": "stream",
     "text": [
      "Generated Password: Qlh-c^:ab30Z\n"
     ]
    }
   ],
   "source": [
    "import random\n",
    "import string\n",
    "\n",
    "characters = string.ascii_letters + string.digits + string.punctuation\n",
    "\n",
    "password_length = 12  \n",
    "password = ''.join(random.choice(characters) for _ in range(password_length))\n",
    "\n",
    "print(\"Generated Password:\", password)\n"
   ]
  }
 ],
 "metadata": {
  "kernelspec": {
   "display_name": "Python 3",
   "language": "python",
   "name": "python3"
  },
  "language_info": {
   "codemirror_mode": {
    "name": "ipython",
    "version": 3
   },
   "file_extension": ".py",
   "mimetype": "text/x-python",
   "name": "python",
   "nbconvert_exporter": "python",
   "pygments_lexer": "ipython3",
   "version": "3.12.9"
  },
  "orig_nbformat": 4
 },
 "nbformat": 4,
 "nbformat_minor": 2
}
