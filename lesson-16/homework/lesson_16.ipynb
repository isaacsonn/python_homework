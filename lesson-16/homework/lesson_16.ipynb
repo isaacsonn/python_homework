{
 "cells": [
  {
   "attachments": {},
   "cell_type": "markdown",
   "metadata": {},
   "source": [
    "# 1.Convert List to 1D A"
   ]
  },
  {
   "cell_type": "code",
   "execution_count": 4,
   "metadata": {},
   "outputs": [
    {
     "name": "stdout",
     "output_type": "stream",
     "text": [
      "Orginal list: [12.23, 13.32, 100, 36.32]\n",
      "One-dimensional numpy array: [ 12.23  13.32 100.    36.32]\n"
     ]
    }
   ],
   "source": [
    "import numpy as np\n",
    "\n",
    "ls = [12.23, 13.32, 100, 36.32]\n",
    "numpy_array = np.array(ls)\n",
    "\n",
    "print(\"Orginal list:\", ls)\n",
    "print(\"One-dimensional numpy array:\",numpy_array)"
   ]
  },
  {
   "attachments": {},
   "cell_type": "markdown",
   "metadata": {},
   "source": [
    "# 2.Create 3x3 Matrix (2?10)"
   ]
  },
  {
   "cell_type": "code",
   "execution_count": 5,
   "metadata": {},
   "outputs": [
    {
     "name": "stdout",
     "output_type": "stream",
     "text": [
      "[[ 2  3  4]\n",
      " [ 5  6  7]\n",
      " [ 8  9 10]]\n"
     ]
    }
   ],
   "source": [
    "ls2 = np.arange(2, 11)\n",
    "\n",
    "matrix = ls2.reshape(3,3)\n",
    "\n",
    "print(matrix)"
   ]
  },
  {
   "attachments": {},
   "cell_type": "markdown",
   "metadata": {},
   "source": [
    "#  3.Null Vector (10) & Update Sixth Value"
   ]
  },
  {
   "cell_type": "code",
   "execution_count": 10,
   "metadata": {},
   "outputs": [
    {
     "name": "stdout",
     "output_type": "stream",
     "text": [
      "[ 0.  0.  0.  0.  0.  0. 11.  0.  0.  0.]\n"
     ]
    }
   ],
   "source": [
    "null_vector = np.zeros(10)\n",
    "null_vector[6] = 11\n",
    "print(null_vector)"
   ]
  },
  {
   "attachments": {},
   "cell_type": "markdown",
   "metadata": {},
   "source": [
    "# 4. Array from 12 to 38"
   ]
  },
  {
   "cell_type": "code",
   "execution_count": 12,
   "metadata": {},
   "outputs": [
    {
     "name": "stdout",
     "output_type": "stream",
     "text": [
      "[12 13 14 15 16 17 18 19 20 21 22 23 24 25 26 27 28 29 30 31 32 33 34 35\n",
      " 36 37]\n"
     ]
    }
   ],
   "source": [
    "ls3 = np.arange(12, 38)\n",
    "print(ls3)"
   ]
  },
  {
   "attachments": {},
   "cell_type": "markdown",
   "metadata": {},
   "source": [
    "# 5.Convert Array to Float Type"
   ]
  },
  {
   "cell_type": "code",
   "execution_count": 19,
   "metadata": {},
   "outputs": [
    {
     "name": "stdout",
     "output_type": "stream",
     "text": [
      "orginal array: [1 2 3 4]\n",
      "converted to float: [1. 2. 3. 4.]\n"
     ]
    }
   ],
   "source": [
    "int_array = np.array([1,2,3,4])\n",
    "float_array = int_array.astype(float)\n",
    "\n",
    "print(\"orginal array:\", int_array)\n",
    "print(\"converted to float:\", float_array)"
   ]
  },
  {
   "attachments": {},
   "cell_type": "markdown",
   "metadata": {},
   "source": [
    "# 6.Celsius to Fahrenheit Conversion"
   ]
  },
  {
   "cell_type": "code",
   "execution_count": 23,
   "metadata": {},
   "outputs": [
    {
     "name": "stdout",
     "output_type": "stream",
     "text": [
      "Values in Fahrenheit: [ 32.     53.6   113.378  93.2   211.838]\n",
      "Values in Celsius: [-17.78 -11.11   7.34   1.11  37.73   0.  ]\n"
     ]
    }
   ],
   "source": [
    "celsius_1 = np.array([0, 12, 45.21, 34, 99.91])\n",
    "celsius_2 = np.array( [-17.78, -11.11, 7.34, 1.11, 37.73, 0. ])\n",
    "\n",
    "fahrenheit_1 = (celsius_1 * 9/5) + 32\n",
    "fahrenheit_2 = (celsius_2 * 9/5) + 32\n",
    "\n",
    "print(\"Values in Fahrenheit:\", fahrenheit_1)\n",
    "print(\"Values in Centigrade:\", celsius_2)"
   ]
  },
  {
   "attachments": {},
   "cell_type": "markdown",
   "metadata": {},
   "source": [
    "# 7.Append Values to Array (Do self-study)"
   ]
  },
  {
   "cell_type": "code",
   "execution_count": 30,
   "metadata": {},
   "outputs": [
    {
     "name": "stdout",
     "output_type": "stream",
     "text": [
      "Original array:  [10 20 30]\n",
      "Appended version:  [10 20 30 40 50 60 70 80 90]\n"
     ]
    }
   ],
   "source": [
    "arr = np.arange(10,40,10)\n",
    "new_arr = np.append(arr, np.arange(40,100,10))\n",
    "\n",
    "print(\"Original array: \", arr)\n",
    "print(\"Appended version: \", new_arr)"
   ]
  },
  {
   "attachments": {},
   "cell_type": "markdown",
   "metadata": {},
   "source": [
    "# 8. Array Statistical Functions (Do self-study)"
   ]
  },
  {
   "cell_type": "code",
   "execution_count": 35,
   "metadata": {},
   "outputs": [
    {
     "name": "stdout",
     "output_type": "stream",
     "text": [
      "[51 63 41 31  9 37  9  8 12 84]\n",
      "34.5\n",
      "34.0\n",
      "24.707286374670936\n"
     ]
    }
   ],
   "source": [
    "random_ints = np.random.randint(1, 100, size=10)\n",
    "\n",
    "mean = np.mean(random_ints)\n",
    "median = np.median(random_ints)\n",
    "std_dev = np.std(random_ints)\n",
    "\n",
    "print(random_ints)\n",
    "print(mean)\n",
    "print(median)\n",
    "print(std_dev)"
   ]
  },
  {
   "attachments": {},
   "cell_type": "markdown",
   "metadata": {},
   "source": [
    "# 9.Find min and max"
   ]
  },
  {
   "cell_type": "code",
   "execution_count": 52,
   "metadata": {},
   "outputs": [
    {
     "name": "stdout",
     "output_type": "stream",
     "text": [
      "[[58 63 97 50 22 88 46  0 10 21]\n",
      " [43  7 51 16 77 71 78  8 83 94]\n",
      " [ 8 84 73 39 83 36 25 55 95 85]\n",
      " [66  3  3 15 49 73 97  5 51 70]\n",
      " [51 35 64 68  4 28 52  6 88 78]\n",
      " [68 57 80 83 25 54  4 18 43  5]\n",
      " [66 69 73 62  2 64  3 38 10 96]\n",
      " [57 54 45 67  6  4 81 33 63 69]\n",
      " [56 35  8 71 89 98 73 43 95  0]\n",
      " [78 20 82  6 65 29 29 15 25 90]]\n",
      "98\n",
      "0\n"
     ]
    }
   ],
   "source": [
    "random_ints2 = np.random.randint(0, 100, size=(10,10))\n",
    "max_value = np.max(random_ints2)\n",
    "min_value = np.min(random_ints2)\n",
    "\n",
    "\n",
    "print(random_ints2)\n",
    "print(max_value)\n",
    "print(min_value)"
   ]
  },
  {
   "attachments": {},
   "cell_type": "markdown",
   "metadata": {},
   "source": [
    "# 10.Create a 3x3x3 array with random values."
   ]
  },
  {
   "cell_type": "code",
   "execution_count": 61,
   "metadata": {},
   "outputs": [
    {
     "name": "stdout",
     "output_type": "stream",
     "text": [
      "[[[25 28 26]\n",
      "  [ 2  8 10]\n",
      "  [ 4 24 24]]\n",
      "\n",
      " [[26 21 24]\n",
      "  [25 17 25]\n",
      "  [27 26 21]]\n",
      "\n",
      " [[16 15  6]\n",
      "  [25  3 22]\n",
      "  [28 24  7]]]\n"
     ]
    }
   ],
   "source": [
    "random_ints3 = np.random.randint(1, 30, size=(3,3,3))\n",
    "print(random_ints3)"
   ]
  }
 ],
 "metadata": {
  "kernelspec": {
   "display_name": "Python 3",
   "language": "python",
   "name": "python3"
  },
  "language_info": {
   "codemirror_mode": {
    "name": "ipython",
    "version": 3
   },
   "file_extension": ".py",
   "mimetype": "text/x-python",
   "name": "python",
   "nbconvert_exporter": "python",
   "pygments_lexer": "ipython3",
   "version": "3.12.9"
  },
  "orig_nbformat": 4
 },
 "nbformat": 4,
 "nbformat_minor": 2
}
