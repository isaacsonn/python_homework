{
 "cells": [
  {
   "cell_type": "code",
   "execution_count": null,
   "metadata": {},
   "outputs": [],
   "source": [
    "import sqlite3\n",
    "import pandas as pd\n",
    "import numpy as np\n",
    "\n",
    "salary_bands = pd.read_excel('task/population salary analysis.xlsx', sheet_name='Salary Bands')\n",
    "\n",
    "conn = sqlite3.connect('task/population.db')\n",
    "query = \"SELECT * FROM population\"\n",
    "population_df = pd.read_sql(query, conn)\n",
    "conn.close()\n",
    "\n",
    "def categorize_salary(salary):\n",
    "    for _, band in salary_bands.iterrows():\n",
    "        if band['Min'] <= salary < band['Max']:\n",
    "            return band['Category']\n",
    "    return 'Unknown'\n",
    "\n",
    "population_df['Salary Category'] = population_df['Salary'].apply(categorize_salary)\n",
    "\n",
    "def calculate_measures(df):\n",
    "    measures = {\n",
    "        'Percentage of Population': df.groupby('Salary Category').size() / len(df) * 100,\n",
    "        'Average Salary': df.groupby('Salary Category')['Salary'].mean(),\n",
    "        'Median Salary': df.groupby('Salary Category')['Salary'].median(),\n",
    "        'Population Count': df.groupby('Salary Category').size()\n",
    "    }\n",
    "    return pd.concat(measures, axis=1)\n",
    "\n",
    "overall_results = calculate_measures(population_df)\n",
    "\n",
    "if 'State' in population_df.columns:\n",
    "    state_results = population_df.groupby('State').apply(calculate_measures)\n",
    "    state_results = state_results.unstack(level=1)\n",
    "else:\n",
    "    state_results = \"No State information in the dataset\"\n",
    "\n",
    "print(\"Overall Results:\")\n",
    "print(overall_results)\n",
    "\n",
    "print(\"\\nResults by State:\")\n",
    "print(state_results)"
   ]
  }
 ],
 "metadata": {
  "kernelspec": {
   "display_name": "Python 3",
   "language": "python",
   "name": "python3"
  },
  "language_info": {
   "codemirror_mode": {
    "name": "ipython",
    "version": 3
   },
   "file_extension": ".py",
   "mimetype": "text/x-python",
   "name": "python",
   "nbconvert_exporter": "python",
   "pygments_lexer": "ipython3",
   "version": "3.12.9"
  },
  "orig_nbformat": 4
 },
 "nbformat": 4,
 "nbformat_minor": 2
}
